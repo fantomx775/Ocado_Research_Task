{
 "cells": [
  {
   "cell_type": "markdown",
   "source": [
    "# Data Analyst Ocado Internship Task\n",
    "## Mateusz Marczyk\n",
    "## Python, SQL\n",
    "## 07.04.2024, Kraków"
   ],
   "metadata": {
    "collapsed": false
   },
   "id": "d466e72512031943"
  },
  {
   "cell_type": "code",
   "execution_count": 734,
   "id": "initial_id",
   "metadata": {
    "collapsed": true,
    "ExecuteTime": {
     "end_time": "2024-04-07T15:23:44.694272Z",
     "start_time": "2024-04-07T15:23:44.677274Z"
    }
   },
   "outputs": [],
   "source": [
    "import pandas as pd\n",
    "import numpy as np\n",
    "import matplotlib.pyplot as plt"
   ]
  },
  {
   "cell_type": "code",
   "outputs": [],
   "source": [
    "def extract_table_data(file, table_name):\n",
    "    data = []\n",
    "    reading_data = False\n",
    "    line_number = 0  \n",
    "    with open(file, \"r\") as f:\n",
    "        for line in f:\n",
    "            line_number += 1  \n",
    "            try:\n",
    "                if line.startswith(\"INSERT INTO {} \".format(table_name)):\n",
    "                    reading_data = True\n",
    "                    continue\n",
    "                elif line.startswith(\"INSERT INTO\"):\n",
    "                    reading_data = False\n",
    "                if reading_data:\n",
    "                    line = line[1:-3].strip()\n",
    "                    seg = line.split(\",\")\n",
    "                    data.append(seg)\n",
    "            except IndexError:\n",
    "                print(f\"Error occurred at line {line_number}: {line}\") \n",
    "    return data"
   ],
   "metadata": {
    "collapsed": false,
    "ExecuteTime": {
     "end_time": "2024-04-07T15:23:44.979265Z",
     "start_time": "2024-04-07T15:23:44.964245Z"
    }
   },
   "id": "33d71042542563c4",
   "execution_count": 735
  },
  {
   "cell_type": "code",
   "outputs": [],
   "source": [
    "file_name = \"droptime.sql\"\n",
    "\n",
    "table_names = [\"products\", \"orders\", \"orders_products\", \"route_segments\"]\n",
    "\n",
    "dfs = {}\n",
    "for table_name in table_names:\n",
    "    data = extract_table_data(file_name, table_name)\n",
    "    columns = [\"product_id\", \"weight\"] if table_name == \"products\" else \\\n",
    "              [\"order_id\", \"customer_id\", \"sector_id\", \"planned_delivery_duration\"] if table_name == \"orders\" else \\\n",
    "              [\"order_id\", \"product_id\", \"quantity\"] if table_name == \"orders_products\" else \\\n",
    "              [\"segment_id\", \"driver_id\", \"segment_type\", \"order_id\", \"segment_start_time\", \"segment_end_time\"]\n",
    "    dfs[table_name] = pd.DataFrame(data, columns=columns)\n",
    "    \n",
    "    \n",
    "\n",
    "products_df = dfs[\"products\"]\n",
    "orders_df = dfs[\"orders\"]\n",
    "orders_products_df = dfs[\"orders_products\"]\n",
    "route_segments_df = dfs[\"route_segments\"]\n",
    "route_segments_df['order_id'] = route_segments_df['order_id'].str.strip()\n",
    "\n",
    "products_df['product_id'] = products_df['product_id'].astype(int)\n",
    "products_df['weight'] = pd.to_numeric(products_df['weight'])\n",
    "\n",
    "orders_df['order_id'] = orders_df['order_id'].astype(int)\n",
    "orders_df['customer_id'] = orders_df['customer_id'].astype(int)\n",
    "orders_df['sector_id'] = orders_df['sector_id'].astype(int)\n",
    "orders_df['planned_delivery_duration'] = pd.to_numeric(orders_df['planned_delivery_duration'])\n",
    "\n",
    "orders_products_df['product_id'].fillna(-1, inplace=True)\n",
    "\n",
    "orders_products_df['product_id'] = orders_products_df['product_id'].astype(int)\n",
    "\n",
    "orders_products_df['product_id'] = orders_products_df['product_id'].astype(int)\n",
    "orders_products_df['quantity'] = pd.to_numeric(orders_products_df['quantity'])\n",
    "\n",
    "route_segments_df['segment_id'] = route_segments_df['segment_id'].astype(int)\n",
    "route_segments_df['driver_id'] = route_segments_df['driver_id'].astype(int)\n",
    "\n",
    "route_segments_df['order_id'] = pd.to_numeric(route_segments_df['order_id'], errors='coerce')\n",
    "\n",
    "route_segments_df['segment_start_time'] = pd.to_datetime(route_segments_df['segment_start_time'])\n",
    "route_segments_df['segment_end_time'] = pd.to_datetime(route_segments_df['segment_end_time'])"
   ],
   "metadata": {
    "collapsed": false,
    "ExecuteTime": {
     "end_time": "2024-04-07T15:23:45.122274Z",
     "start_time": "2024-04-07T15:23:44.981240Z"
    }
   },
   "id": "21da3c7b9cdc2911",
   "execution_count": 736
  },
  {
   "cell_type": "markdown",
   "source": [
    "# Part 2. Data analysis and visualisation"
   ],
   "metadata": {
    "collapsed": false
   },
   "id": "17fdf7af5de1d19a"
  },
  {
   "cell_type": "markdown",
   "source": [
    "## 1. Generate a histogram showing the actual delivery time with 1 minute granularity (rounded up)."
   ],
   "metadata": {
    "collapsed": false
   },
   "id": "9994b4955084e92d"
  },
  {
   "cell_type": "code",
   "outputs": [
    {
     "data": {
      "text/plain": "<Figure size 2400x600 with 1 Axes>",
      "image/png": "[encoded data removed]"
     },
     "metadata": {},
     "output_type": "display_data"
    }
   ],
   "source": [
    "route_segments_df.loc[:, 'delivery_time_seconds'] = (route_segments_df['segment_end_time'] - route_segments_df['segment_start_time']).dt.total_seconds()\n",
    "\n",
    "route_segments_df.loc[:, 'delivery_time_minutes'] = route_segments_df['delivery_time_seconds'] / 60\n",
    "\n",
    "route_segments_df.loc[:, 'delivery_time_rounded'] = np.ceil(route_segments_df['delivery_time_minutes'])\n",
    "\n",
    "plt.figure(figsize=(24, 6))\n",
    "plt.hist(route_segments_df['delivery_time_rounded'], bins=50, alpha=0.7)\n",
    "plt.xlabel('Delivery time (minutes)')\n",
    "plt.ylabel('Frequency')\n",
    "plt.title('Delivery time Histogram')\n",
    "plt.show()"
   ],
   "metadata": {
    "collapsed": false,
    "ExecuteTime": {
     "end_time": "2024-04-07T15:23:45.342407Z",
     "start_time": "2024-04-07T15:23:45.124244Z"
    }
   },
   "id": "ed27bc68bacec36c",
   "execution_count": 737
  },
  {
   "cell_type": "markdown",
   "source": [
    "### as we can see from the histogram, the majority of the delivery times are definitely less than 100 minutes. Let's check the exact values distribution."
   ],
   "metadata": {
    "collapsed": false
   },
   "id": "d9606faafda76129"
  },
  {
   "cell_type": "code",
   "outputs": [
    {
     "name": "stdout",
     "output_type": "stream",
     "text": [
      "delivery_time_rounded\n",
      "-16.0       3\n",
      "-14.0       1\n",
      "-11.0       1\n",
      "-10.0       1\n",
      "-9.0        2\n",
      "-8.0        1\n",
      "-7.0        3\n",
      "-6.0        5\n",
      "-5.0        1\n",
      "-4.0        4\n",
      "-3.0        1\n",
      "-2.0        5\n",
      "-1.0        2\n",
      " 0.0      263\n",
      " 1.0      202\n",
      " 2.0      547\n",
      " 3.0      688\n",
      " 4.0      584\n",
      " 5.0      442\n",
      " 6.0      352\n",
      " 7.0      268\n",
      " 8.0      251\n",
      " 9.0      254\n",
      " 10.0     235\n",
      " 11.0     269\n",
      " 12.0     273\n",
      " 13.0      52\n",
      " 14.0      40\n",
      " 15.0      35\n",
      " 16.0      43\n",
      " 17.0      48\n",
      " 18.0      39\n",
      " 19.0      26\n",
      " 20.0      12\n",
      " 241.0      3\n",
      " 242.0      8\n",
      " 243.0      6\n",
      " 244.0      3\n",
      " 245.0      3\n",
      " 246.0      2\n",
      " 247.0      1\n",
      " 248.0      4\n",
      " 249.0      1\n",
      " 250.0      2\n",
      " 251.0      1\n",
      " 252.0      2\n",
      " 253.0      1\n",
      " 256.0      1\n",
      "Name: count, dtype: int64\n"
     ]
    }
   ],
   "source": [
    "print(route_segments_df['delivery_time_rounded'].value_counts().sort_index(ascending=True))"
   ],
   "metadata": {
    "collapsed": false,
    "ExecuteTime": {
     "end_time": "2024-04-07T15:23:45.358275Z",
     "start_time": "2024-04-07T15:23:45.344243Z"
    }
   },
   "id": "c5f6de4e2944e1e",
   "execution_count": 738
  },
  {
   "cell_type": "markdown",
   "source": [],
   "metadata": {
    "collapsed": false
   },
   "id": "e8390e57bbd35e60"
  },
  {
   "cell_type": "markdown",
   "source": [
    "### as we can see from the distribution, the majority of the delivery times are in range of 0 to 20 minutes. Let's generate a histogram for this range."
   ],
   "metadata": {
    "collapsed": false
   },
   "id": "68be313359d8b68"
  },
  {
   "cell_type": "code",
   "outputs": [
    {
     "data": {
      "text/plain": "<Figure size 640x480 with 1 Axes>",
      "image/png": "[encoded data removed]"
     },
     "metadata": {},
     "output_type": "display_data"
    }
   ],
   "source": [
    "plt.hist(route_segments_df['delivery_time_rounded'], edgecolor='black', bins=range(0, 21), alpha=0.7)\n",
    "plt.xticks(range(21))\n",
    "plt.xlabel('Delivery time (minutes)')\n",
    "plt.ylabel('Frequency')\n",
    "plt.title('Delivery time Histogram')\n",
    "plt.show()"
   ],
   "metadata": {
    "collapsed": false,
    "ExecuteTime": {
     "end_time": "2024-04-07T15:23:45.564240Z",
     "start_time": "2024-04-07T15:23:45.360276Z"
    }
   },
   "id": "4c540988362a0e6f",
   "execution_count": 739
  },
  {
   "cell_type": "markdown",
   "source": [],
   "metadata": {
    "collapsed": false
   },
   "id": "21cea481c0788ded"
  },
  {
   "cell_type": "markdown",
   "source": [
    "### Let's also take a look at delivery times for STOP segments where order_id is not null."
   ],
   "metadata": {
    "collapsed": false
   },
   "id": "626d593230a40b92"
  },
  {
   "cell_type": "code",
   "outputs": [
    {
     "data": {
      "text/plain": "<Figure size 640x480 with 1 Axes>",
      "image/png": "[encoded data removed]"
     },
     "metadata": {},
     "output_type": "display_data"
    }
   ],
   "source": [
    "merged_df = pd.merge(route_segments_df, orders_df, on='order_id')\n",
    "plt.hist(merged_df['delivery_time_rounded'], edgecolor='black', bins=range(0, 21), alpha=0.7)\n",
    "plt.xticks(range(21))\n",
    "plt.xlabel('Delivery time (minutes)')\n",
    "plt.ylabel('Frequency')\n",
    "plt.title('Delivery time Histogram')\n",
    "plt.show()"
   ],
   "metadata": {
    "collapsed": false,
    "ExecuteTime": {
     "end_time": "2024-04-07T15:23:45.767417Z",
     "start_time": "2024-04-07T15:23:45.565243Z"
    }
   },
   "id": "d89032fcc6dca7cf",
   "execution_count": 740
  },
  {
   "cell_type": "markdown",
   "source": [
    "### as we can see from the histogram, when it comes to STOP segments, the majority of the delivery times are between 0 and 7 minutes"
   ],
   "metadata": {
    "collapsed": false
   },
   "id": "87b8f720cd7346f3"
  },
  {
   "cell_type": "markdown",
   "source": [
    "## 2. Generate a histogram showing prediction error (difference between planned and actual delivery times)."
   ],
   "metadata": {
    "collapsed": false
   },
   "id": "1d5da07d21307724"
  },
  {
   "cell_type": "markdown",
   "source": [],
   "metadata": {
    "collapsed": false
   },
   "id": "d68a6497d426517c"
  },
  {
   "cell_type": "code",
   "outputs": [],
   "source": [
    "# I will need the copy for later analysis\n",
    "merged_df_copy = merged_df.copy()"
   ],
   "metadata": {
    "collapsed": false,
    "ExecuteTime": {
     "end_time": "2024-04-07T15:23:45.782405Z",
     "start_time": "2024-04-07T15:23:45.769241Z"
    }
   },
   "id": "bc8f6aab7ca76ec2",
   "execution_count": 741
  },
  {
   "cell_type": "code",
   "outputs": [],
   "source": [
    "merged_df['difference'] = abs(merged_df['planned_delivery_duration'].astype(int) - merged_df['delivery_time_seconds'].astype(int))"
   ],
   "metadata": {
    "collapsed": false,
    "ExecuteTime": {
     "end_time": "2024-04-07T15:23:45.798272Z",
     "start_time": "2024-04-07T15:23:45.784242Z"
    }
   },
   "id": "5a8aad007fc4e5b1",
   "execution_count": 742
  },
  {
   "cell_type": "code",
   "outputs": [
    {
     "data": {
      "text/plain": "<Figure size 2400x600 with 1 Axes>",
      "image/png": "[encoded data removed]"
     },
     "metadata": {},
     "output_type": "display_data"
    }
   ],
   "source": [
    "plt.figure(figsize=(24, 6))\n",
    "plt.hist(merged_df['difference'], edgecolor='black', alpha=0.7)\n",
    "plt.xlabel('Delivery time (seconds)')\n",
    "plt.ylabel('Frequency')\n",
    "plt.title('Difference Delivery time Histogram')\n",
    "plt.show()"
   ],
   "metadata": {
    "collapsed": false,
    "ExecuteTime": {
     "end_time": "2024-04-07T15:23:45.985244Z",
     "start_time": "2024-04-07T15:23:45.799273Z"
    }
   },
   "id": "eb6b7e2586b42e7b",
   "execution_count": 743
  },
  {
   "cell_type": "markdown",
   "source": [
    "### similarly as earlier as we can see from the histogram, the majority of the delivery times are definitely less than 20000 minutes. Let's check the exact values distribution."
   ],
   "metadata": {
    "collapsed": false
   },
   "id": "9147d3174a2cdc4f"
  },
  {
   "cell_type": "code",
   "outputs": [
    {
     "name": "stdout",
     "output_type": "stream",
     "text": [
      "difference\n",
      "0        11\n",
      "1        19\n",
      "2         9\n",
      "3        14\n",
      "4        17\n",
      "5        17\n",
      "6        12\n",
      "7        12\n",
      "8        11\n",
      "9         5\n",
      "10        9\n",
      "11       14\n",
      "12       11\n",
      "13       13\n",
      "14        9\n",
      "15       15\n",
      "16       25\n",
      "17       12\n",
      "18       16\n",
      "19       12\n",
      "20        5\n",
      "21       19\n",
      "22       10\n",
      "23       19\n",
      "24       18\n",
      "25       16\n",
      "26       10\n",
      "27       15\n",
      "28       14\n",
      "29       14\n",
      "30       20\n",
      "31       14\n",
      "32       13\n",
      "33       11\n",
      "34       17\n",
      "35       19\n",
      "36       17\n",
      "37       15\n",
      "38       14\n",
      "39       16\n",
      "40       12\n",
      "41       18\n",
      "42       13\n",
      "43       16\n",
      "44       12\n",
      "45       12\n",
      "46       15\n",
      "47       22\n",
      "48        8\n",
      "49       16\n",
      "50       13\n",
      "51       13\n",
      "52       11\n",
      "53        6\n",
      "54       12\n",
      "55       13\n",
      "56       24\n",
      "57        9\n",
      "58       11\n",
      "59       14\n",
      "60       18\n",
      "61       15\n",
      "62        9\n",
      "63       19\n",
      "64       12\n",
      "65       14\n",
      "66       14\n",
      "67       11\n",
      "68       11\n",
      "69       13\n",
      "70        8\n",
      "71        7\n",
      "72       15\n",
      "73       22\n",
      "74       12\n",
      "75       12\n",
      "76       14\n",
      "77       12\n",
      "78        9\n",
      "79       14\n",
      "80       14\n",
      "81       12\n",
      "82        8\n",
      "83        9\n",
      "84       15\n",
      "85       11\n",
      "86       14\n",
      "87        9\n",
      "88        8\n",
      "89       16\n",
      "90        8\n",
      "91       13\n",
      "92        7\n",
      "93       13\n",
      "94       10\n",
      "95       10\n",
      "96       13\n",
      "97       18\n",
      "98       20\n",
      "99       14\n",
      "100      16\n",
      "101      14\n",
      "102      12\n",
      "103      11\n",
      "104      13\n",
      "105      15\n",
      "106      19\n",
      "107      21\n",
      "108      13\n",
      "109       6\n",
      "110      16\n",
      "111      12\n",
      "112      12\n",
      "113      15\n",
      "114      18\n",
      "115      16\n",
      "116       9\n",
      "117      17\n",
      "118      15\n",
      "119      14\n",
      "120       9\n",
      "121      10\n",
      "122      19\n",
      "123      13\n",
      "124      10\n",
      "125      16\n",
      "126       9\n",
      "127      12\n",
      "128      10\n",
      "129      12\n",
      "130      14\n",
      "131       7\n",
      "132       8\n",
      "133       9\n",
      "134      12\n",
      "135      13\n",
      "136       8\n",
      "137       8\n",
      "138       9\n",
      "139       5\n",
      "140       6\n",
      "141       4\n",
      "142       6\n",
      "143       3\n",
      "144       5\n",
      "145       9\n",
      "146       3\n",
      "147       4\n",
      "148       2\n",
      "149       3\n",
      "150       2\n",
      "151       4\n",
      "152       1\n",
      "153       2\n",
      "154       6\n",
      "155       2\n",
      "156       3\n",
      "158       1\n",
      "159       2\n",
      "161       2\n",
      "162       1\n",
      "163       2\n",
      "164       1\n",
      "165       4\n",
      "166       4\n",
      "167       3\n",
      "168       2\n",
      "169      10\n",
      "170       8\n",
      "171       4\n",
      "172       4\n",
      "173       3\n",
      "174       1\n",
      "175      25\n",
      "176      42\n",
      "177      15\n",
      "178      18\n",
      "179      11\n",
      "180       5\n",
      "181       2\n",
      "182       2\n",
      "183       1\n",
      "184       3\n",
      "185       1\n",
      "186       3\n",
      "188       1\n",
      "189       1\n",
      "190       2\n",
      "191       2\n",
      "193       2\n",
      "194       2\n",
      "195       1\n",
      "197       1\n",
      "199       1\n",
      "200       6\n",
      "201       1\n",
      "203       2\n",
      "204       2\n",
      "205       2\n",
      "206       1\n",
      "207       2\n",
      "208       1\n",
      "209       2\n",
      "210       1\n",
      "211       1\n",
      "212       2\n",
      "213       1\n",
      "214       1\n",
      "215       2\n",
      "217       2\n",
      "218       1\n",
      "220       2\n",
      "221       1\n",
      "222       2\n",
      "223       1\n",
      "225       2\n",
      "228       1\n",
      "229       3\n",
      "230       2\n",
      "231       2\n",
      "233       1\n",
      "235       1\n",
      "236       2\n",
      "237       1\n",
      "239       2\n",
      "240       1\n",
      "242       2\n",
      "243       1\n",
      "244       3\n",
      "245       1\n",
      "246       1\n",
      "248       1\n",
      "250       1\n",
      "252       1\n",
      "253       2\n",
      "256       1\n",
      "257       1\n",
      "259       1\n",
      "262       1\n",
      "264       2\n",
      "265       1\n",
      "266       1\n",
      "268       1\n",
      "269       1\n",
      "270       1\n",
      "271       2\n",
      "275       1\n",
      "277       1\n",
      "280       3\n",
      "281       2\n",
      "285       1\n",
      "286       1\n",
      "290       2\n",
      "296       1\n",
      "299       1\n",
      "301       1\n",
      "303       2\n",
      "304       1\n",
      "308       2\n",
      "309       3\n",
      "312       1\n",
      "314       1\n",
      "318       1\n",
      "324       1\n",
      "327       1\n",
      "328       1\n",
      "330       2\n",
      "331       2\n",
      "337       2\n",
      "339       1\n",
      "345       1\n",
      "346       1\n",
      "348       1\n",
      "356       2\n",
      "359       1\n",
      "369       2\n",
      "370       1\n",
      "374       2\n",
      "375       1\n",
      "381       1\n",
      "382       1\n",
      "384       1\n",
      "398       1\n",
      "402       1\n",
      "409       1\n",
      "419       1\n",
      "420       1\n",
      "427       1\n",
      "437       1\n",
      "442       1\n",
      "450       1\n",
      "451       2\n",
      "483       1\n",
      "484       1\n",
      "504       1\n",
      "514       2\n",
      "14269     1\n",
      "14275     1\n",
      "14289     1\n",
      "14290     1\n",
      "14292     1\n",
      "14297     1\n",
      "14300     1\n",
      "14321     1\n",
      "14322     1\n",
      "14324     1\n",
      "14342     1\n",
      "14346     1\n",
      "14357     1\n",
      "14362     1\n",
      "14371     1\n",
      "14373     1\n",
      "14398     1\n",
      "14446     1\n",
      "14493     1\n",
      "14515     1\n",
      "14563     1\n",
      "14572     1\n",
      "14682     1\n",
      "14766     1\n"
     ]
    }
   ],
   "source": [
    "print(merged_df['difference'].value_counts().sort_index(ascending=True).to_string())\n"
   ],
   "metadata": {
    "collapsed": false,
    "ExecuteTime": {
     "end_time": "2024-04-07T15:23:46.001319Z",
     "start_time": "2024-04-07T15:23:45.987242Z"
    }
   },
   "id": "1783ee24f1c1fea8",
   "execution_count": 744
  },
  {
   "cell_type": "markdown",
   "source": [
    "### as we can see from the distribution, the majority of the delivery times are in range of 0 to 514 seconds. Let's generate a histogram for this range."
   ],
   "metadata": {
    "collapsed": false
   },
   "id": "7a75e8de2eb6b6c7"
  },
  {
   "cell_type": "code",
   "outputs": [
    {
     "data": {
      "text/plain": "<Figure size 2400x600 with 1 Axes>",
      "image/png": "[encoded data removed]"
     },
     "metadata": {},
     "output_type": "display_data"
    }
   ],
   "source": [
    "plt.figure(figsize=(24, 6))\n",
    "plt.hist(merged_df['difference'], edgecolor='black', bins=range(0, 515), alpha=0.7)\n",
    "plt.xlabel('Delivery time (seconds)')\n",
    "plt.ylabel('Frequency')\n",
    "plt.title('Difference Delivery time Histogram')\n",
    "plt.show()\n"
   ],
   "metadata": {
    "collapsed": false,
    "ExecuteTime": {
     "end_time": "2024-04-07T15:23:46.709424Z",
     "start_time": "2024-04-07T15:23:46.004240Z"
    }
   },
   "id": "168d7239e11873da",
   "execution_count": 745
  },
  {
   "cell_type": "markdown",
   "source": [
    "### Let's take a closer look and generate a histogram for the range of 0 to 200 seconds."
   ],
   "metadata": {
    "collapsed": false
   },
   "id": "e61fe0920d1745a8"
  },
  {
   "cell_type": "code",
   "outputs": [
    {
     "data": {
      "text/plain": "<Figure size 2400x600 with 1 Axes>",
      "image/png": "[encoded data removed]"
     },
     "metadata": {},
     "output_type": "display_data"
    }
   ],
   "source": [
    "plt.figure(figsize=(24, 6))\n",
    "plt.hist(merged_df['difference'], edgecolor='black', bins=range(0, 200), alpha=0.7)\n",
    "plt.xlabel('Delivery time (seconds)')\n",
    "plt.ylabel('Frequency')\n",
    "plt.title('Difference Delivery time Histogram')\n",
    "plt.show()"
   ],
   "metadata": {
    "collapsed": false,
    "ExecuteTime": {
     "end_time": "2024-04-07T15:23:47.105239Z",
     "start_time": "2024-04-07T15:23:46.711275Z"
    }
   },
   "id": "825a3777107f8175",
   "execution_count": 746
  },
  {
   "cell_type": "markdown",
   "source": [
    "## 3. We received insight from our drivers that delivering in one of the sectors is significantly longer than in other sectors. Generate a chart to visualise this hypothesis."
   ],
   "metadata": {
    "collapsed": false
   },
   "id": "16f2b7013fa6135a"
  },
  {
   "cell_type": "markdown",
   "source": [
    "### First let's take a look at the statistics for delivery times by sector."
   ],
   "metadata": {
    "collapsed": false
   },
   "id": "b8a054a949d573c8"
  },
  {
   "cell_type": "code",
   "outputs": [
    {
     "data": {
      "text/plain": "           count      mean        std       min       25%       50%       75%  \\\nsector_id                                                                       \n1          739.0  5.661254  21.841322 -5.050000  1.816667  3.450000  5.208333   \n2          739.0  5.282161  26.371447 -4.416667  1.266667  2.233333  3.300000   \n3          779.0  5.149487  25.656463 -4.550000  1.183333  2.250000  3.416667   \n\n                  max  \nsector_id              \n1          249.050000  \n2          244.866667  \n3          245.783333  ",
      "text/html": "<div>\n<style scoped>\n    .dataframe tbody tr th:only-of-type {\n        vertical-align: middle;\n    }\n\n    .dataframe tbody tr th {\n        vertical-align: top;\n    }\n\n    .dataframe thead th {\n        text-align: right;\n    }\n</style>\n<table border=\"1\" class=\"dataframe\">\n  <thead>\n    <tr style=\"text-align: right;\">\n      <th></th>\n      <th>count</th>\n      <th>mean</th>\n      <th>std</th>\n      <th>min</th>\n      <th>25%</th>\n      <th>50%</th>\n      <th>75%</th>\n      <th>max</th>\n    </tr>\n    <tr>\n      <th>sector_id</th>\n      <th></th>\n      <th></th>\n      <th></th>\n      <th></th>\n      <th></th>\n      <th></th>\n      <th></th>\n      <th></th>\n    </tr>\n  </thead>\n  <tbody>\n    <tr>\n      <th>1</th>\n      <td>739.0</td>\n      <td>5.661254</td>\n      <td>21.841322</td>\n      <td>-5.050000</td>\n      <td>1.816667</td>\n      <td>3.450000</td>\n      <td>5.208333</td>\n      <td>249.050000</td>\n    </tr>\n    <tr>\n      <th>2</th>\n      <td>739.0</td>\n      <td>5.282161</td>\n      <td>26.371447</td>\n      <td>-4.416667</td>\n      <td>1.266667</td>\n      <td>2.233333</td>\n      <td>3.300000</td>\n      <td>244.866667</td>\n    </tr>\n    <tr>\n      <th>3</th>\n      <td>779.0</td>\n      <td>5.149487</td>\n      <td>25.656463</td>\n      <td>-4.550000</td>\n      <td>1.183333</td>\n      <td>2.250000</td>\n      <td>3.416667</td>\n      <td>245.783333</td>\n    </tr>\n  </tbody>\n</table>\n</div>"
     },
     "execution_count": 747,
     "metadata": {},
     "output_type": "execute_result"
    }
   ],
   "source": [
    "statistics_delivery_time = merged_df.groupby('sector_id')['delivery_time_minutes'].describe()\n",
    "statistics_delivery_time"
   ],
   "metadata": {
    "collapsed": false,
    "ExecuteTime": {
     "end_time": "2024-04-07T15:23:47.151238Z",
     "start_time": "2024-04-07T15:23:47.108244Z"
    }
   },
   "id": "99ddc0d68d275611",
   "execution_count": 747
  },
  {
   "cell_type": "markdown",
   "source": [
    "### As we can see, sector 1 has the longest delivery time on average. Let's generate a chart to visualize this."
   ],
   "metadata": {
    "collapsed": false
   },
   "id": "5459badc1a98e0a5"
  },
  {
   "cell_type": "code",
   "outputs": [
    {
     "data": {
      "text/plain": "<Figure size 640x480 with 1 Axes>",
      "image/png": "[encoded data removed]"
     },
     "metadata": {},
     "output_type": "display_data"
    }
   ],
   "source": [
    "import matplotlib.pyplot as plt\n",
    "\n",
    "mean_delivery_time = merged_df.groupby('sector_id')['delivery_time_minutes'].mean()\n",
    "\n",
    "plt.plot(mean_delivery_time, marker='o', linestyle='-')\n",
    "\n",
    "plt.xlabel('Sector ID')\n",
    "plt.ylabel('Mean Value')\n",
    "plt.title('Mean Delivery Time by Sector')\n",
    "\n",
    "plt.grid(True)\n",
    "plt.show()"
   ],
   "metadata": {
    "collapsed": false,
    "ExecuteTime": {
     "end_time": "2024-04-07T15:23:47.357273Z",
     "start_time": "2024-04-07T15:23:47.153242Z"
    }
   },
   "id": "5848b40fa79ce865",
   "execution_count": 748
  },
  {
   "cell_type": "markdown",
   "source": [
    "### As we can see in the chart, sector with ID 1 has the longest delivery time. However, I would not say that the difference between the average times in these 3 sectors is very different. The statistics also seem to confirm this."
   ],
   "metadata": {
    "collapsed": false
   },
   "id": "58ed6429fdb37637"
  },
  {
   "cell_type": "markdown",
   "source": [
    "## 4. Play with the data by grouping, aggregating and remodelling it. Are you able to find any correlations or trends that could be valuable for prediction quality improvement? Describe briefly your findings and visualise them on charts."
   ],
   "metadata": {
    "collapsed": false
   },
   "id": "4506a4bac26f2cab"
  },
  {
   "cell_type": "markdown",
   "source": [
    "### Let's take a look at the maximum delivery time for each sector. Maybe there is a sector where the maximum delivery times are significantly longer than in other sectors."
   ],
   "metadata": {
    "collapsed": false
   },
   "id": "2dd8f400d205cd3e"
  },
  {
   "cell_type": "code",
   "outputs": [
    {
     "data": {
      "text/plain": "sector_id\n1    249.050000\n2    244.866667\n3    245.783333\nName: delivery_time_minutes, dtype: float64"
     },
     "execution_count": 749,
     "metadata": {},
     "output_type": "execute_result"
    }
   ],
   "source": [
    "merged_df.groupby('sector_id')['delivery_time_minutes'].max()"
   ],
   "metadata": {
    "collapsed": false,
    "ExecuteTime": {
     "end_time": "2024-04-07T15:23:47.373241Z",
     "start_time": "2024-04-07T15:23:47.359241Z"
    }
   },
   "id": "475d301b085e4d",
   "execution_count": 749
  },
  {
   "cell_type": "code",
   "outputs": [
    {
     "data": {
      "text/plain": "      sector_id  delivery_time_minutes\n1452          1             249.050000\n295           1             247.650000\n798           3             245.783333\n1756          1             245.633333\n423           2             244.866667\n...         ...                    ...\n62            3              -3.450000\n304           2              -4.333333\n1300          2              -4.416667\n1658          3              -4.550000\n1859          1              -5.050000\n\n[2257 rows x 2 columns]",
      "text/html": "<div>\n<style scoped>\n    .dataframe tbody tr th:only-of-type {\n        vertical-align: middle;\n    }\n\n    .dataframe tbody tr th {\n        vertical-align: top;\n    }\n\n    .dataframe thead th {\n        text-align: right;\n    }\n</style>\n<table border=\"1\" class=\"dataframe\">\n  <thead>\n    <tr style=\"text-align: right;\">\n      <th></th>\n      <th>sector_id</th>\n      <th>delivery_time_minutes</th>\n    </tr>\n  </thead>\n  <tbody>\n    <tr>\n      <th>1452</th>\n      <td>1</td>\n      <td>249.050000</td>\n    </tr>\n    <tr>\n      <th>295</th>\n      <td>1</td>\n      <td>247.650000</td>\n    </tr>\n    <tr>\n      <th>798</th>\n      <td>3</td>\n      <td>245.783333</td>\n    </tr>\n    <tr>\n      <th>1756</th>\n      <td>1</td>\n      <td>245.633333</td>\n    </tr>\n    <tr>\n      <th>423</th>\n      <td>2</td>\n      <td>244.866667</td>\n    </tr>\n    <tr>\n      <th>...</th>\n      <td>...</td>\n      <td>...</td>\n    </tr>\n    <tr>\n      <th>62</th>\n      <td>3</td>\n      <td>-3.450000</td>\n    </tr>\n    <tr>\n      <th>304</th>\n      <td>2</td>\n      <td>-4.333333</td>\n    </tr>\n    <tr>\n      <th>1300</th>\n      <td>2</td>\n      <td>-4.416667</td>\n    </tr>\n    <tr>\n      <th>1658</th>\n      <td>3</td>\n      <td>-4.550000</td>\n    </tr>\n    <tr>\n      <th>1859</th>\n      <td>1</td>\n      <td>-5.050000</td>\n    </tr>\n  </tbody>\n</table>\n<p>2257 rows × 2 columns</p>\n</div>"
     },
     "execution_count": 750,
     "metadata": {},
     "output_type": "execute_result"
    }
   ],
   "source": [
    "sorted_df = merged_df.sort_values(by='delivery_time_minutes', ascending=False)\n",
    "selected_columns = sorted_df[['sector_id', 'delivery_time_minutes']]\n",
    "selected_columns"
   ],
   "metadata": {
    "collapsed": false,
    "ExecuteTime": {
     "end_time": "2024-04-07T15:23:47.389242Z",
     "start_time": "2024-04-07T15:23:47.375244Z"
    }
   },
   "id": "ecf421bd250140c7",
   "execution_count": 750
  },
  {
   "cell_type": "markdown",
   "source": [
    "### As we can see, the maximum delivery times are not significantly different between sectors. The distribution of delivery times is similar for all sectors. Perhaps it is error in the dataset, and they are just outliers."
   ],
   "metadata": {
    "collapsed": false
   },
   "id": "83dd655f68da1273"
  },
  {
   "cell_type": "markdown",
   "source": [
    "### Maybe just couple customers are causing the longer delivery times. If yes, they should have low standard deviation of delivery times."
   ],
   "metadata": {
    "collapsed": false
   },
   "id": "59218cb49a232a4b"
  },
  {
   "cell_type": "code",
   "outputs": [
    {
     "data": {
      "text/plain": "             mean_delivery_duration  std_delivery_duration  sector_id\ncustomer_id                                                          \n293                     7376.500000           10106.677223          1\n97                      5932.600000            7899.066768          2\n48                      3802.500000            7246.651296          3\n142                     2524.833333            5850.590719          1\n66                      2519.333333            5886.005289          1\n...                             ...                    ...        ...\n244                       69.000000              71.084457          3\n150                       55.600000              36.637413          2\n73                        50.200000             165.561771          3\n1                         39.000000                    NaN          3\n162                       22.166667             174.830680          3\n\n[320 rows x 3 columns]",
      "text/html": "<div>\n<style scoped>\n    .dataframe tbody tr th:only-of-type {\n        vertical-align: middle;\n    }\n\n    .dataframe tbody tr th {\n        vertical-align: top;\n    }\n\n    .dataframe thead th {\n        text-align: right;\n    }\n</style>\n<table border=\"1\" class=\"dataframe\">\n  <thead>\n    <tr style=\"text-align: right;\">\n      <th></th>\n      <th>mean_delivery_duration</th>\n      <th>std_delivery_duration</th>\n      <th>sector_id</th>\n    </tr>\n    <tr>\n      <th>customer_id</th>\n      <th></th>\n      <th></th>\n      <th></th>\n    </tr>\n  </thead>\n  <tbody>\n    <tr>\n      <th>293</th>\n      <td>7376.500000</td>\n      <td>10106.677223</td>\n      <td>1</td>\n    </tr>\n    <tr>\n      <th>97</th>\n      <td>5932.600000</td>\n      <td>7899.066768</td>\n      <td>2</td>\n    </tr>\n    <tr>\n      <th>48</th>\n      <td>3802.500000</td>\n      <td>7246.651296</td>\n      <td>3</td>\n    </tr>\n    <tr>\n      <th>142</th>\n      <td>2524.833333</td>\n      <td>5850.590719</td>\n      <td>1</td>\n    </tr>\n    <tr>\n      <th>66</th>\n      <td>2519.333333</td>\n      <td>5886.005289</td>\n      <td>1</td>\n    </tr>\n    <tr>\n      <th>...</th>\n      <td>...</td>\n      <td>...</td>\n      <td>...</td>\n    </tr>\n    <tr>\n      <th>244</th>\n      <td>69.000000</td>\n      <td>71.084457</td>\n      <td>3</td>\n    </tr>\n    <tr>\n      <th>150</th>\n      <td>55.600000</td>\n      <td>36.637413</td>\n      <td>2</td>\n    </tr>\n    <tr>\n      <th>73</th>\n      <td>50.200000</td>\n      <td>165.561771</td>\n      <td>3</td>\n    </tr>\n    <tr>\n      <th>1</th>\n      <td>39.000000</td>\n      <td>NaN</td>\n      <td>3</td>\n    </tr>\n    <tr>\n      <th>162</th>\n      <td>22.166667</td>\n      <td>174.830680</td>\n      <td>3</td>\n    </tr>\n  </tbody>\n</table>\n<p>320 rows × 3 columns</p>\n</div>"
     },
     "execution_count": 751,
     "metadata": {},
     "output_type": "execute_result"
    }
   ],
   "source": [
    "merged_df.groupby('customer_id').agg(\n",
    "    mean_delivery_duration=('delivery_time_seconds', 'mean'),\n",
    "    std_delivery_duration=('delivery_time_seconds', 'std'),\n",
    "    sector_id=('sector_id', 'first')\n",
    ").sort_values(by='mean_delivery_duration', ascending=False)\n"
   ],
   "metadata": {
    "collapsed": false,
    "ExecuteTime": {
     "end_time": "2024-04-07T15:23:47.420244Z",
     "start_time": "2024-04-07T15:23:47.391242Z"
    }
   },
   "id": "d9a80f2be45b0612",
   "execution_count": 751
  },
  {
   "cell_type": "markdown",
   "source": [
    "### It is not the case. The standard deviation is very high for all customers, with high delivery times."
   ],
   "metadata": {
    "collapsed": false
   },
   "id": "7a29410a27ce7219"
  },
  {
   "cell_type": "markdown",
   "source": [
    "### Perhaps it's the high weight of the products that causes the longer delivery times. Let's check it out!"
   ],
   "metadata": {
    "collapsed": false
   },
   "id": "ba04cc066bb5cfe1"
  },
  {
   "cell_type": "code",
   "outputs": [
    {
     "name": "stderr",
     "output_type": "stream",
     "text": [
      "C:\\Users\\user\\AppData\\Local\\Temp\\ipykernel_10884\\1911056540.py:5: SettingWithCopyWarning: \n",
      "A value is trying to be set on a copy of a slice from a DataFrame.\n",
      "Try using .loc[row_indexer,col_indexer] = value instead\n",
      "\n",
      "See the caveats in the documentation: https://pandas.pydata.org/pandas-docs/stable/user_guide/indexing.html#returning-a-view-versus-a-copy\n",
      "  route_segments_df['order_id'] = route_segments_df['order_id'].astype(int)\n",
      "C:\\Users\\user\\AppData\\Local\\Temp\\ipykernel_10884\\1911056540.py:6: SettingWithCopyWarning: \n",
      "A value is trying to be set on a copy of a slice from a DataFrame.\n",
      "Try using .loc[row_indexer,col_indexer] = value instead\n",
      "\n",
      "See the caveats in the documentation: https://pandas.pydata.org/pandas-docs/stable/user_guide/indexing.html#returning-a-view-versus-a-copy\n",
      "  orders_products_df['order_id'] = orders_products_df['order_id'].astype(int)\n"
     ]
    },
    {
     "data": {
      "text/plain": "      order_id  total_weight  delivery_time_minutes\n513      513.0       26388.0               4.883333\n788      788.0       24248.0               2.600000\n756      756.0       23633.0               1.783333\n1901    1901.0       23443.0               2.383333\n1896    1896.0       23244.0               3.883333\n502      502.0       22390.0               4.883333\n1783    1783.0       22245.0              11.033333\n1084    1084.0       21056.0               4.833333\n294      294.0       20239.0               9.583333\n1853    1853.0       20167.0               1.733333\n745      745.0       19741.0               8.433333\n1173    1173.0       19674.0               7.033333\n2235    2235.0       18878.0               5.966667\n1197    1197.0       18721.0               2.450000\n361      361.0       18280.0               2.533333\n3          3.0       18274.0               1.533333\n1373    1373.0       18189.0               9.116667\n2029    2029.0       18060.0               0.000000\n323      323.0       17833.0               4.966667\n2065    2065.0       17719.0               4.250000\n637      637.0       17616.0               3.200000\n1003    1003.0       17481.0               6.333333\n1780    1780.0       17439.0               4.566667\n1892    1892.0       17331.0               5.483333\n402      402.0       17324.0               7.433333\n2190    2190.0       17167.0              11.550000\n981      981.0       16992.0               9.200000\n10        10.0       16861.0               2.550000\n1784    1784.0       16778.0               4.166667\n1923    1923.0       16777.0               3.466667",
      "text/html": "<div>\n<style scoped>\n    .dataframe tbody tr th:only-of-type {\n        vertical-align: middle;\n    }\n\n    .dataframe tbody tr th {\n        vertical-align: top;\n    }\n\n    .dataframe thead th {\n        text-align: right;\n    }\n</style>\n<table border=\"1\" class=\"dataframe\">\n  <thead>\n    <tr style=\"text-align: right;\">\n      <th></th>\n      <th>order_id</th>\n      <th>total_weight</th>\n      <th>delivery_time_minutes</th>\n    </tr>\n  </thead>\n  <tbody>\n    <tr>\n      <th>513</th>\n      <td>513.0</td>\n      <td>26388.0</td>\n      <td>4.883333</td>\n    </tr>\n    <tr>\n      <th>788</th>\n      <td>788.0</td>\n      <td>24248.0</td>\n      <td>2.600000</td>\n    </tr>\n    <tr>\n      <th>756</th>\n      <td>756.0</td>\n      <td>23633.0</td>\n      <td>1.783333</td>\n    </tr>\n    <tr>\n      <th>1901</th>\n      <td>1901.0</td>\n      <td>23443.0</td>\n      <td>2.383333</td>\n    </tr>\n    <tr>\n      <th>1896</th>\n      <td>1896.0</td>\n      <td>23244.0</td>\n      <td>3.883333</td>\n    </tr>\n    <tr>\n      <th>502</th>\n      <td>502.0</td>\n      <td>22390.0</td>\n      <td>4.883333</td>\n    </tr>\n    <tr>\n      <th>1783</th>\n      <td>1783.0</td>\n      <td>22245.0</td>\n      <td>11.033333</td>\n    </tr>\n    <tr>\n      <th>1084</th>\n      <td>1084.0</td>\n      <td>21056.0</td>\n      <td>4.833333</td>\n    </tr>\n    <tr>\n      <th>294</th>\n      <td>294.0</td>\n      <td>20239.0</td>\n      <td>9.583333</td>\n    </tr>\n    <tr>\n      <th>1853</th>\n      <td>1853.0</td>\n      <td>20167.0</td>\n      <td>1.733333</td>\n    </tr>\n    <tr>\n      <th>745</th>\n      <td>745.0</td>\n      <td>19741.0</td>\n      <td>8.433333</td>\n    </tr>\n    <tr>\n      <th>1173</th>\n      <td>1173.0</td>\n      <td>19674.0</td>\n      <td>7.033333</td>\n    </tr>\n    <tr>\n      <th>2235</th>\n      <td>2235.0</td>\n      <td>18878.0</td>\n      <td>5.966667</td>\n    </tr>\n    <tr>\n      <th>1197</th>\n      <td>1197.0</td>\n      <td>18721.0</td>\n      <td>2.450000</td>\n    </tr>\n    <tr>\n      <th>361</th>\n      <td>361.0</td>\n      <td>18280.0</td>\n      <td>2.533333</td>\n    </tr>\n    <tr>\n      <th>3</th>\n      <td>3.0</td>\n      <td>18274.0</td>\n      <td>1.533333</td>\n    </tr>\n    <tr>\n      <th>1373</th>\n      <td>1373.0</td>\n      <td>18189.0</td>\n      <td>9.116667</td>\n    </tr>\n    <tr>\n      <th>2029</th>\n      <td>2029.0</td>\n      <td>18060.0</td>\n      <td>0.000000</td>\n    </tr>\n    <tr>\n      <th>323</th>\n      <td>323.0</td>\n      <td>17833.0</td>\n      <td>4.966667</td>\n    </tr>\n    <tr>\n      <th>2065</th>\n      <td>2065.0</td>\n      <td>17719.0</td>\n      <td>4.250000</td>\n    </tr>\n    <tr>\n      <th>637</th>\n      <td>637.0</td>\n      <td>17616.0</td>\n      <td>3.200000</td>\n    </tr>\n    <tr>\n      <th>1003</th>\n      <td>1003.0</td>\n      <td>17481.0</td>\n      <td>6.333333</td>\n    </tr>\n    <tr>\n      <th>1780</th>\n      <td>1780.0</td>\n      <td>17439.0</td>\n      <td>4.566667</td>\n    </tr>\n    <tr>\n      <th>1892</th>\n      <td>1892.0</td>\n      <td>17331.0</td>\n      <td>5.483333</td>\n    </tr>\n    <tr>\n      <th>402</th>\n      <td>402.0</td>\n      <td>17324.0</td>\n      <td>7.433333</td>\n    </tr>\n    <tr>\n      <th>2190</th>\n      <td>2190.0</td>\n      <td>17167.0</td>\n      <td>11.550000</td>\n    </tr>\n    <tr>\n      <th>981</th>\n      <td>981.0</td>\n      <td>16992.0</td>\n      <td>9.200000</td>\n    </tr>\n    <tr>\n      <th>10</th>\n      <td>10.0</td>\n      <td>16861.0</td>\n      <td>2.550000</td>\n    </tr>\n    <tr>\n      <th>1784</th>\n      <td>1784.0</td>\n      <td>16778.0</td>\n      <td>4.166667</td>\n    </tr>\n    <tr>\n      <th>1923</th>\n      <td>1923.0</td>\n      <td>16777.0</td>\n      <td>3.466667</td>\n    </tr>\n  </tbody>\n</table>\n</div>"
     },
     "execution_count": 752,
     "metadata": {},
     "output_type": "execute_result"
    }
   ],
   "source": [
    "orders_products_df = orders_products_df[orders_products_df['order_id'] != '']\n",
    "route_segments_df = route_segments_df.dropna(subset=['order_id'])\n",
    "\n",
    "route_segments_df.loc[:, 'order_id'] = route_segments_df['order_id'].astype(int)\n",
    "route_segments_df['order_id'] = route_segments_df['order_id'].astype(int)\n",
    "orders_products_df['order_id'] = orders_products_df['order_id'].astype(int)\n",
    "merged_df = pd.merge(merged_df, orders_products_df, on='order_id', how='inner')\n",
    "merged_df = pd.merge(merged_df, products_df, on='product_id', how='inner')\n",
    "merged_df['total_weight'] = merged_df['weight'] * merged_df['quantity']\n",
    "\n",
    "order_summary = merged_df.groupby('order_id').agg({'total_weight': 'sum', 'delivery_time_minutes': 'first'}).reset_index()\n",
    "\n",
    "order_summary_sorted = order_summary.sort_values(by='total_weight', ascending=False)\n",
    "order_summary_sorted.head(30)"
   ],
   "metadata": {
    "collapsed": false,
    "ExecuteTime": {
     "end_time": "2024-04-07T15:23:47.467239Z",
     "start_time": "2024-04-07T15:23:47.422244Z"
    }
   },
   "id": "7facbbbfc29526b7",
   "execution_count": 752
  },
  {
   "cell_type": "markdown",
   "source": [
    "### As we can see the total weight of the products does not seem to have a significant impact on the delivery time."
   ],
   "metadata": {
    "collapsed": false
   },
   "id": "d0ae32c3ee44a7e2"
  },
  {
   "cell_type": "markdown",
   "source": [
    "# Part 3. Building and verifying the hypothesis"
   ],
   "metadata": {
    "collapsed": false
   },
   "id": "aea532082315d50d"
  },
  {
   "cell_type": "markdown",
   "source": [
    "## The current prediction algorithm is very naive. It calculates the mean from all collected data and applies it to every future order. We need to explore alternative ideas. One of them is predicting delivery times per sector. Describe how you would validate this hypothesis using available data."
   ],
   "metadata": {
    "collapsed": false
   },
   "id": "f157db49b694fbc3"
  },
  {
   "cell_type": "markdown",
   "source": [
    "### First I would split into independent sets based on sectors and then analyze the delivery times for each sector, look at the statistics, visualize data for better understanding. I would try to look for significant differences and based on that validate the hypothesis."
   ],
   "metadata": {
    "collapsed": false
   },
   "id": "4e0f2c102d6f7e92"
  },
  {
   "cell_type": "markdown",
   "source": [
    "## Using the data, propose some alternative method/algorithm that will predict delivery times more accurately. Describe the methodology to validate the new algorithm."
   ],
   "metadata": {
    "collapsed": false
   },
   "id": "4bfe0d73066e94cd"
  },
  {
   "cell_type": "markdown",
   "source": [
    "### Let's create machine learning model to predict delivery times. We will merged_df from previous analysis as it contains all necessary data."
   ],
   "metadata": {
    "collapsed": false
   },
   "id": "9849766df16c0b20"
  },
  {
   "cell_type": "markdown",
   "source": [
    "### First let's prepare data by grouping it by order_id and calculating total weight of the products, then preserving only necessary columns."
   ],
   "metadata": {
    "collapsed": false
   },
   "id": "3d8aa350b651f31a"
  },
  {
   "cell_type": "code",
   "outputs": [],
   "source": [
    "merged_df['total_weight'] = merged_df['weight'] * merged_df['quantity']\n",
    "\n",
    "grouped_df = merged_df.groupby('order_id').agg({\n",
    "    'driver_id': 'first',\n",
    "    'segment_start_time': 'first',\n",
    "    'segment_end_time': 'first',\n",
    "    'delivery_time_seconds': 'first',\n",
    "    'sector_id': 'first',\n",
    "    'total_weight': 'sum'\n",
    "}).reset_index()\n",
    "grouped_df.drop(columns=['order_id'], inplace=True)"
   ],
   "metadata": {
    "collapsed": false,
    "ExecuteTime": {
     "end_time": "2024-04-07T15:23:47.483272Z",
     "start_time": "2024-04-07T15:23:47.468240Z"
    }
   },
   "id": "823edc2143dc9ee8",
   "execution_count": 753
  },
  {
   "cell_type": "code",
   "outputs": [
    {
     "name": "stdout",
     "output_type": "stream",
     "text": [
      "driver_id                         int32\n",
      "segment_start_time       datetime64[ns]\n",
      "segment_end_time         datetime64[ns]\n",
      "delivery_time_seconds           float64\n",
      "sector_id                         int32\n",
      "total_weight                    float64\n",
      "dtype: object\n"
     ]
    }
   ],
   "source": [
    "print(grouped_df.dtypes)\n",
    "grouped_df['delivery_time_seconds'] = grouped_df['delivery_time_seconds'].astype(int)\n",
    "grouped_df.drop(columns=['segment_start_time', 'segment_end_time'], inplace=True)"
   ],
   "metadata": {
    "collapsed": false,
    "ExecuteTime": {
     "end_time": "2024-04-07T15:23:47.499273Z",
     "start_time": "2024-04-07T15:23:47.485242Z"
    }
   },
   "id": "d8d88c78473ccfbf",
   "execution_count": 754
  },
  {
   "cell_type": "code",
   "outputs": [],
   "source": [
    "grouped_df2 = grouped_df.copy()"
   ],
   "metadata": {
    "collapsed": false,
    "ExecuteTime": {
     "end_time": "2024-04-07T15:23:47.515273Z",
     "start_time": "2024-04-07T15:23:47.500273Z"
    }
   },
   "id": "85c73a9710057f73",
   "execution_count": 755
  },
  {
   "cell_type": "code",
   "outputs": [
    {
     "name": "stdout",
     "output_type": "stream",
     "text": [
      "Mean Absolute Error: 328.0816325467687\n"
     ]
    }
   ],
   "source": [
    "from sklearn.model_selection import train_test_split, GridSearchCV\n",
    "from sklearn.ensemble import RandomForestRegressor\n",
    "from sklearn.metrics import mean_absolute_error\n",
    "\n",
    "y = grouped_df.pop('delivery_time_seconds')\n",
    "X = grouped_df\n",
    "\n",
    "X_train, X_test, y_train, y_test = train_test_split(X, y, test_size=0.2, random_state=42)\n",
    "\n",
    "rf_regressor = RandomForestRegressor(n_estimators=100, random_state=42)\n",
    "\n",
    "rf_regressor.fit(X_train, y_train)\n",
    "\n",
    "y_pred = rf_regressor.predict(X_test)\n",
    "\n",
    "mae = mean_absolute_error(y_test, y_pred)  \n",
    "print(\"Mean Absolute Error:\", mae)  \n"
   ],
   "metadata": {
    "collapsed": false,
    "ExecuteTime": {
     "end_time": "2024-04-07T15:23:47.907278Z",
     "start_time": "2024-04-07T15:23:47.516273Z"
    }
   },
   "id": "9c7bdd719d1265e8",
   "execution_count": 756
  },
  {
   "cell_type": "markdown",
   "source": [
    "### The Mean Absolute Error is quite high. Let's try to improve the model by removing outliers."
   ],
   "metadata": {
    "collapsed": false
   },
   "id": "a3443c7de2a7bdd9"
  },
  {
   "cell_type": "code",
   "outputs": [
    {
     "name": "stdout",
     "output_type": "stream",
     "text": [
      "Mean Absolute Error: 48.33822415272415\n"
     ]
    }
   ],
   "source": [
    "grouped_df = grouped_df2[grouped_df2['delivery_time_seconds'] <= 1000]\n",
    "\n",
    "y = grouped_df.pop('delivery_time_seconds')\n",
    "X = grouped_df\n",
    "\n",
    "X_train, X_test, y_train, y_test = train_test_split(X, y, test_size=0.2, random_state=42)\n",
    "\n",
    "rf_regressor = RandomForestRegressor(n_estimators=100, random_state=42)\n",
    "\n",
    "rf_regressor.fit(X_train, y_train)\n",
    "\n",
    "y_pred = rf_regressor.predict(X_test)\n",
    "\n",
    "mae = mean_absolute_error(y_test, y_pred)  \n",
    "print(\"Mean Absolute Error:\", mae)  \n"
   ],
   "metadata": {
    "collapsed": false,
    "ExecuteTime": {
     "end_time": "2024-04-07T15:23:48.254276Z",
     "start_time": "2024-04-07T15:23:47.908243Z"
    }
   },
   "id": "e98c7105a9520c33",
   "execution_count": 757
  },
  {
   "cell_type": "markdown",
   "source": [
    "### As we can see the Mean Absolute Error is much lower now, nearly 7 times. It probably means that the outliers are errors in dataset. Let's see if gradient boosting regressor can improve the model even more."
   ],
   "metadata": {
    "collapsed": false
   },
   "id": "a545444e3aa67f16"
  },
  {
   "cell_type": "code",
   "outputs": [
    {
     "name": "stdout",
     "output_type": "stream",
     "text": [
      "Mean Absolute Error: 38.796674702122765\n"
     ]
    }
   ],
   "source": [
    "from sklearn.ensemble import GradientBoostingRegressor\n",
    "from sklearn.metrics import mean_absolute_error\n",
    "gb_regressor = GradientBoostingRegressor(random_state=42)\n",
    "\n",
    "gb_regressor.fit(X_train, y_train)\n",
    "\n",
    "y_pred = gb_regressor.predict(X_test)\n",
    "\n",
    "mae = mean_absolute_error(y_test, y_pred)\n",
    "print(\"Mean Absolute Error:\", mae)"
   ],
   "metadata": {
    "collapsed": false,
    "ExecuteTime": {
     "end_time": "2024-04-07T15:23:48.395423Z",
     "start_time": "2024-04-07T15:23:48.255242Z"
    }
   },
   "id": "ea3bebd52cf07894",
   "execution_count": 758
  },
  {
   "cell_type": "markdown",
   "source": [
    "### The Mean Absolute Error is even lower. MAE dropped almost 20%, which is a significant improvement. Let's try to tune the hyperparameters to improve the model even more."
   ],
   "metadata": {
    "collapsed": false
   },
   "id": "edaffe8a0bd6b53c"
  },
  {
   "cell_type": "code",
   "outputs": [
    {
     "name": "stdout",
     "output_type": "stream",
     "text": [
      "Best Parameters: {'learning_rate': 0.1, 'max_depth': 3, 'min_samples_leaf': 4, 'min_samples_split': 10, 'n_estimators': 100}\n",
      "Mean Absolute Error: 38.234091441642384\n"
     ]
    }
   ],
   "source": [
    "gb_regressor = GradientBoostingRegressor(random_state=42)\n",
    "\n",
    "param_grid = {\n",
    "    'n_estimators': [100, 200, 300],\n",
    "    'learning_rate': [0.01, 0.1, 0.2],\n",
    "    'max_depth': [3, 5, 7],\n",
    "    'min_samples_split': [2, 5, 10],\n",
    "    'min_samples_leaf': [1, 2, 4]\n",
    "}\n",
    "\n",
    "grid_search = GridSearchCV(estimator=gb_regressor, param_grid=param_grid, cv=5, scoring='neg_mean_absolute_error', n_jobs=-1)\n",
    "\n",
    "grid_search.fit(X_train, y_train)\n",
    "\n",
    "best_params = grid_search.best_params_\n",
    "print(\"Best Parameters:\", best_params)\n",
    "\n",
    "best_gb_regressor = GradientBoostingRegressor(**best_params, random_state=42)\n",
    "\n",
    "best_gb_regressor.fit(X_train, y_train)\n",
    "\n",
    "y_pred = best_gb_regressor.predict(X_test)\n",
    "\n",
    "mae = mean_absolute_error(y_test, y_pred)\n",
    "print(\"Mean Absolute Error:\", mae)"
   ],
   "metadata": {
    "collapsed": false,
    "ExecuteTime": {
     "end_time": "2024-04-07T15:24:49.155955Z",
     "start_time": "2024-04-07T15:23:48.396277Z"
    }
   },
   "id": "73a91c852e13769e",
   "execution_count": 759
  },
  {
   "cell_type": "markdown",
   "source": [
    "### Hyperparameter tuning improved the model just a bit. So finally we get MAE at 38. Let's compare it with the current MAE, using average as prediction."
   ],
   "metadata": {
    "collapsed": false
   },
   "id": "d6fe7aa1dd0a567d"
  },
  {
   "cell_type": "markdown",
   "source": [
    "### First let's calculate the MAE for the current model with outliers."
   ],
   "metadata": {
    "collapsed": false
   },
   "id": "5f8dc74d2110a451"
  },
  {
   "cell_type": "code",
   "outputs": [
    {
     "name": "stdout",
     "output_type": "stream",
     "text": [
      "Mean Absolute Error: 245.39610101905183\n"
     ]
    }
   ],
   "source": [
    "mae = mean_absolute_error(merged_df_copy['delivery_time_seconds'], merged_df_copy['planned_delivery_duration'])\n",
    "print(\"Mean Absolute Error:\", mae)"
   ],
   "metadata": {
    "collapsed": false,
    "ExecuteTime": {
     "end_time": "2024-04-07T15:24:49.171870Z",
     "start_time": "2024-04-07T15:24:49.156868Z"
    }
   },
   "id": "cf9fc02be089916d",
   "execution_count": 760
  },
  {
   "cell_type": "markdown",
   "source": [
    "### As we can see the MAE for the current model is more than 6 times higher than the MAE for the model with outliers removed. Let's see what is the MAE without outliers."
   ],
   "metadata": {
    "collapsed": false
   },
   "id": "5d6e4652e81be0a3"
  },
  {
   "cell_type": "code",
   "outputs": [
    {
     "name": "stdout",
     "output_type": "stream",
     "text": [
      "Mean Absolute Error: 93.27989252127183\n"
     ]
    }
   ],
   "source": [
    "merged_df_copy = merged_df_copy[merged_df_copy['delivery_time_seconds'] <= 1000]\n",
    "mae = mean_absolute_error(merged_df_copy['delivery_time_seconds'], merged_df_copy['planned_delivery_duration'])\n",
    "print(\"Mean Absolute Error:\", mae)"
   ],
   "metadata": {
    "collapsed": false,
    "ExecuteTime": {
     "end_time": "2024-04-07T15:24:49.186867Z",
     "start_time": "2024-04-07T15:24:49.172869Z"
    }
   },
   "id": "f56774711e6f0066",
   "execution_count": 761
  },
  {
   "cell_type": "markdown",
   "source": [
    "### The MAE for the current model without outliers is still more twice higher than the MAE for the model with outliers removed. Out machine learning model improved the predictions very well.\n",
    "\n",
    "### To sum thing up, I think that the best way to predict delivery times is to use machine learning models. Even with the dataset I used, which is very limited, I was able to improve the predictions significantly. I think that with more data and more features (which I will describe later), the model could be improved even more. I would also consider using more complex models, like neural networks, to improve the predictions even more."
   ],
   "metadata": {
    "collapsed": false
   },
   "id": "bd29fd223b723c2f"
  },
  {
   "cell_type": "markdown",
   "source": [
    "## Why could some deliveries take more time? For example, some buildings don’t have elevators etc. Describe your ideas."
   ],
   "metadata": {
    "collapsed": false
   },
   "id": "6288e75f798acf84"
  },
  {
   "cell_type": "markdown",
   "source": [
    "### I would point out a few factors that could affect the delivery time:\n",
    "- Location Accessibility: some locations may be more difficult to access than others, which could increase delivery times\n",
    "- Building Features: elevators, stairs, gated communities\n",
    "- Traffic: traffic jams, roadworks\n",
    "- Weather: rain, snow, storms\n",
    "- Incorrect or Incomplete Address: driver may have trouble finding the location\n",
    "- Technical Issues: vehicle breakdown, GPS issues"
   ],
   "metadata": {
    "collapsed": false
   },
   "id": "666c58f5709680ed"
  },
  {
   "cell_type": "markdown",
   "source": [
    "## What additional data would be worth collecting for future analysis of this domain?"
   ],
   "metadata": {
    "collapsed": false
   },
   "id": "51905c2176eabf95"
  },
  {
   "cell_type": "markdown",
   "source": [
    "### I would consider collecting the following additional data:\n",
    "- Traffic Data: traffic congestion, road closures, accidents\n",
    "- Vehicle Data: vehicle type, age, maintenance\n",
    "- Driver Data: experience, performance, working hours\n",
    "- Route Data: distance, elevation, road type\n",
    "- Building Data: features, accessibility, security"
   ],
   "metadata": {
    "collapsed": false
   },
   "id": "d35cc9a797396431"
  },
  {
   "cell_type": "markdown",
   "source": [
    "### I would also improve the partitioning algorithm for the GPS, so the whole road that driver took is clear"
   ],
   "metadata": {
    "collapsed": false
   },
   "id": "c44b680b22219cf9"
  }
 ],
 "metadata": {
  "kernelspec": {
   "display_name": "Python 3",
   "language": "python",
   "name": "python3"
  },
  "language_info": {
   "codemirror_mode": {
    "name": "ipython",
    "version": 2
   },
   "file_extension": ".py",
   "mimetype": "text/x-python",
   "name": "python",
   "nbconvert_exporter": "python",
   "pygments_lexer": "ipython2",
   "version": "2.7.6"
  }
 },
 "nbformat": 4,
 "nbformat_minor": 5
}
